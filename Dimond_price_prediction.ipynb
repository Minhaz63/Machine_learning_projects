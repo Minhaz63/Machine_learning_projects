{
  "nbformat": 4,
  "nbformat_minor": 0,
  "metadata": {
    "colab": {
      "provenance": [],
      "include_colab_link": true
    },
    "kernelspec": {
      "name": "python3",
      "display_name": "Python 3"
    },
    "language_info": {
      "name": "python"
    }
  },
  "cells": [
    {
      "cell_type": "markdown",
      "metadata": {
        "id": "view-in-github",
        "colab_type": "text"
      },
      "source": [
        "<a href=\"https://colab.research.google.com/github/Minhaz63/Machine_learning_projects/blob/main/Dimond_price_prediction.ipynb\" target=\"_parent\"><img src=\"https://colab.research.google.com/assets/colab-badge.svg\" alt=\"Open In Colab\"/></a>"
      ]
    },
    {
      "cell_type": "code",
      "execution_count": null,
      "metadata": {
        "id": "rBSJ5eoiBbWn"
      },
      "outputs": [],
      "source": [
        "import numpy as np \n",
        "import pandas as pd \n",
        "import seaborn as sns\n",
        "import matplotlib as mpl\n",
        "import matplotlib.pyplot as plt\n",
        "import matplotlib.pylab as pylab\n",
        "from sklearn.preprocessing import OneHotEncoder, LabelEncoder\n",
        "from sklearn.model_selection import train_test_split\n",
        "from sklearn.preprocessing import StandardScaler\n",
        "from sklearn.decomposition import PCA\n",
        "from sklearn.pipeline import Pipeline\n",
        "from sklearn.tree import DecisionTreeRegressor\n",
        "from sklearn.ensemble import RandomForestRegressor\n",
        "from sklearn.linear_model import LinearRegression\n",
        "from xgboost import XGBRegressor\n",
        "from sklearn.neighbors import KNeighborsRegressor\n",
        "from sklearn.model_selection import cross_val_score\n",
        "from sklearn.metrics import mean_squared_error\n",
        "from sklearn import metrics"
      ]
    },
    {
      "cell_type": "markdown",
      "source": [
        "Loading the data"
      ],
      "metadata": {
        "id": "xz-ZZ7kCDWEB"
      }
    },
    {
      "cell_type": "code",
      "source": [
        "df1 = pd.read_csv(r'/content/Task_1_7.csv')\n",
        "print(df1)"
      ],
      "metadata": {
        "colab": {
          "base_uri": "https://localhost:8080/"
        },
        "id": "bACl_VnUDQIi",
        "outputId": "bb2c49ee-33db-4c35-fb01-2abe3b304a82"
      },
      "execution_count": null,
      "outputs": [
        {
          "output_type": "stream",
          "name": "stdout",
          "text": [
            "       carat        cut color clarity  depth  table     x     y     z   price\n",
            "0       0.42      Ideal     E     VS2   62.1   56.0  4.80  4.77  2.97  1024.0\n",
            "1       0.42      Ideal     D    VVS1   62.8   56.0  4.80  4.76  3.00  1621.0\n",
            "2       1.51    Premium     J     VS2   62.3   59.0  7.31  7.35  4.57  7418.0\n",
            "3       0.59  Very Good     F     VS2   62.0   58.0  5.35  5.42  3.34  1764.0\n",
            "4       1.73      Ideal     J     SI1   62.6   57.0  7.69  7.65  4.80  6927.0\n",
            "...      ...        ...   ...     ...    ...    ...   ...   ...   ...     ...\n",
            "11413   1.19  Very Good     H     VS1   62.4   59.0  6.73  6.79  4.22  7147.0\n",
            "11414   0.94       Good     I     SI2   63.8   60.0  6.14  6.21  3.94  3134.0\n",
            "11415   1.01    Premium     G     SI2    NaN   60.0  6.48  6.44  3.88  4270.0\n",
            "11416   0.72       Good     H     SI2   65.8   59.0  5.51  5.58  3.65  1945.0\n",
            "11417   0.55       Good     I    VVS2   61.0   61.0  5.32  5.36  3.26  1384.0\n",
            "\n",
            "[11418 rows x 10 columns]\n"
          ]
        }
      ]
    },
    {
      "cell_type": "code",
      "source": [
        "df1.info()"
      ],
      "metadata": {
        "colab": {
          "base_uri": "https://localhost:8080/"
        },
        "id": "XI6VV4pXEunp",
        "outputId": "bbf52186-9b2c-4a1b-b298-25f13809e874"
      },
      "execution_count": null,
      "outputs": [
        {
          "output_type": "stream",
          "name": "stdout",
          "text": [
            "<class 'pandas.core.frame.DataFrame'>\n",
            "RangeIndex: 11418 entries, 0 to 11417\n",
            "Data columns (total 10 columns):\n",
            " #   Column   Non-Null Count  Dtype  \n",
            "---  ------   --------------  -----  \n",
            " 0   carat    11404 non-null  float64\n",
            " 1   cut      11411 non-null  object \n",
            " 2   color    11406 non-null  object \n",
            " 3   clarity  11408 non-null  object \n",
            " 4   depth    11096 non-null  float64\n",
            " 5   table    11409 non-null  float64\n",
            " 6   x        11409 non-null  float64\n",
            " 7   y        11401 non-null  float64\n",
            " 8   z        11406 non-null  float64\n",
            " 9   price    11405 non-null  float64\n",
            "dtypes: float64(7), object(3)\n",
            "memory usage: 892.2+ KB\n"
          ]
        }
      ]
    },
    {
      "cell_type": "markdown",
      "source": [
        "Trying to visualize the null value\n"
      ],
      "metadata": {
        "id": "IDwRYJhOHGVZ"
      }
    },
    {
      "cell_type": "code",
      "source": [
        "import matplotlib.pyplot as plt\n",
        "import seaborn as sns"
      ],
      "metadata": {
        "id": "yqEX5MDSF9i1"
      },
      "execution_count": null,
      "outputs": []
    },
    {
      "cell_type": "code",
      "source": [
        "sns.heatmap(df1.isnull(), cbar=False)"
      ],
      "metadata": {
        "colab": {
          "base_uri": "https://localhost:8080/",
          "height": 503
        },
        "id": "PEuFbNx4HM1g",
        "outputId": "01c1bb28-651f-4678-aa38-6fbb15675c6a"
      },
      "execution_count": null,
      "outputs": [
        {
          "output_type": "execute_result",
          "data": {
            "text/plain": [
              "<matplotlib.axes._subplots.AxesSubplot at 0x7fd19487e8e0>"
            ]
          },
          "metadata": {},
          "execution_count": 34
        },
        {
          "output_type": "display_data",
          "data": {
            "text/plain": [
              "<Figure size 1152x576 with 1 Axes>"
            ],
            "image/png": "[encoded data removed]"
          },
          "metadata": {}
        }
      ]
    },
    {
      "cell_type": "markdown",
      "source": [
        "Here we *can* see that, there are some missing values in darity depth and table"
      ],
      "metadata": {
        "id": "dOZPHBiQHd7m"
      }
    },
    {
      "cell_type": "markdown",
      "source": [
        "removing the rows where clarity is missing\n",
        "and for depth and table replace with missing value"
      ],
      "metadata": {
        "id": "r0vQ2R_9MWnv"
      }
    },
    {
      "cell_type": "code",
      "source": [
        "df1.isnull().sum()"
      ],
      "metadata": {
        "colab": {
          "base_uri": "https://localhost:8080/"
        },
        "id": "B3vRW8gzHWAm",
        "outputId": "d1c4b793-be19-4307-9c69-56f49ae162d7"
      },
      "execution_count": null,
      "outputs": [
        {
          "output_type": "execute_result",
          "data": {
            "text/plain": [
              "carat       14\n",
              "cut          7\n",
              "color       12\n",
              "clarity     10\n",
              "depth      322\n",
              "table        9\n",
              "x            9\n",
              "y           17\n",
              "z           12\n",
              "price       13\n",
              "dtype: int64"
            ]
          },
          "metadata": {},
          "execution_count": 35
        }
      ]
    },
    {
      "cell_type": "code",
      "source": [
        "df1 = df1.dropna(subset=['clarity'])\n",
        "df1 = df1.dropna(subset=['cut'])\n",
        "df1 = df1.dropna(subset=['color'])\n"
      ],
      "metadata": {
        "id": "IDQ2omFoQK7J"
      },
      "execution_count": null,
      "outputs": []
    },
    {
      "cell_type": "code",
      "source": [
        "df1.isnull().sum()"
      ],
      "metadata": {
        "colab": {
          "base_uri": "https://localhost:8080/"
        },
        "id": "03E7rEy8QfNt",
        "outputId": "82280841-630d-45b8-8947-b9973a5d1f88"
      },
      "execution_count": null,
      "outputs": [
        {
          "output_type": "execute_result",
          "data": {
            "text/plain": [
              "carat       14\n",
              "cut          0\n",
              "color        0\n",
              "clarity      0\n",
              "depth      321\n",
              "table        9\n",
              "x            9\n",
              "y           17\n",
              "z           12\n",
              "price       13\n",
              "dtype: int64"
            ]
          },
          "metadata": {},
          "execution_count": 37
        }
      ]
    },
    {
      "cell_type": "code",
      "source": [
        "df1['depth'].fillna(value=df1['depth'].mean(), inplace=True)\n",
        "df1['carat'].fillna(value=df1['carat'].mean(), inplace=True)\n",
        "df1['table'].fillna(value=df1['table'].mean(), inplace=True)\n",
        "df1['x'].fillna(value=df1['x'].mean(), inplace=True)\n",
        "df1['y'].fillna(value=df1['y'].mean(), inplace=True)\n",
        "df1['z'].fillna(value=df1['z'].mean(), inplace=True)\n",
        "df1['price'].fillna(value=df1['price'].mean(), inplace=True)"
      ],
      "metadata": {
        "id": "t_QGo6YcQlEr"
      },
      "execution_count": null,
      "outputs": []
    },
    {
      "cell_type": "code",
      "source": [
        "df1.isnull().sum()"
      ],
      "metadata": {
        "colab": {
          "base_uri": "https://localhost:8080/"
        },
        "id": "nq0JMh7Ubig9",
        "outputId": "34c175ae-b2c0-469f-de43-c6cf2a93f758"
      },
      "execution_count": null,
      "outputs": [
        {
          "output_type": "execute_result",
          "data": {
            "text/plain": [
              "carat      0\n",
              "cut        0\n",
              "color      0\n",
              "clarity    0\n",
              "depth      0\n",
              "table      0\n",
              "x          0\n",
              "y          0\n",
              "z          0\n",
              "price      0\n",
              "dtype: int64"
            ]
          },
          "metadata": {},
          "execution_count": 39
        }
      ]
    },
    {
      "cell_type": "code",
      "source": [
        "sns.set(rc = {'figure.figsize':(16,8)})\n",
        "sns.heatmap(df1.corr(), annot = True, fmt='.2g',cmap= 'coolwarm')\n"
      ],
      "metadata": {
        "colab": {
          "base_uri": "https://localhost:8080/",
          "height": 506
        },
        "id": "cbFBE0P9eFFt",
        "outputId": "a35761d0-28a9-4f97-cc49-44aebdb92f30"
      },
      "execution_count": null,
      "outputs": [
        {
          "output_type": "execute_result",
          "data": {
            "text/plain": [
              "<matplotlib.axes._subplots.AxesSubplot at 0x7fd194ee4580>"
            ]
          },
          "metadata": {},
          "execution_count": 40
        },
        {
          "output_type": "display_data",
          "data": {
            "text/plain": [
              "<Figure size 1152x576 with 2 Axes>"
            ],
            "image/png": "[encoded data removed]"
          },
          "metadata": {}
        }
      ]
    },
    {
      "cell_type": "code",
      "source": [
        "df1.isnull().sum()"
      ],
      "metadata": {
        "id": "nNE890rpfj41",
        "colab": {
          "base_uri": "https://localhost:8080/"
        },
        "outputId": "f06b0032-754a-4a70-a099-d5f4ee2545c1"
      },
      "execution_count": null,
      "outputs": [
        {
          "output_type": "execute_result",
          "data": {
            "text/plain": [
              "carat      0\n",
              "cut        0\n",
              "color      0\n",
              "clarity    0\n",
              "depth      0\n",
              "table      0\n",
              "x          0\n",
              "y          0\n",
              "z          0\n",
              "price      0\n",
              "dtype: int64"
            ]
          },
          "metadata": {},
          "execution_count": 41
        }
      ]
    },
    {
      "cell_type": "code",
      "source": [
        "df1.describe()\n"
      ],
      "metadata": {
        "colab": {
          "base_uri": "https://localhost:8080/",
          "height": 300
        },
        "id": "YkaJO3xABvps",
        "outputId": "5e778cbb-53d4-4705-8a69-3bc524599d3c"
      },
      "execution_count": null,
      "outputs": [
        {
          "output_type": "execute_result",
          "data": {
            "text/plain": [
              "              carat         depth         table             x             y  \\\n",
              "count  11389.000000  11389.000000  11389.000000  11389.000000  11389.000000   \n",
              "mean       0.805858     61.740757     57.460782      5.748409      5.750855   \n",
              "std        0.478654      1.392060      2.243166      1.130517      1.121904   \n",
              "min        0.200000     52.200000     49.000000      0.000000      0.000000   \n",
              "25%        0.400000     61.100000     56.000000      4.710000      4.720000   \n",
              "50%        0.710000     61.800000     57.000000      5.710000      5.730000   \n",
              "75%        1.060000     62.500000     59.000000      6.570000      6.570000   \n",
              "max        4.010000     72.200000     79.000000     10.140000     10.100000   \n",
              "\n",
              "                  z         price  \n",
              "count  11389.000000  11389.000000  \n",
              "mean       3.547212   3975.278833  \n",
              "std        0.701142   4018.729847  \n",
              "min        0.000000    335.000000  \n",
              "25%        2.910000    955.000000  \n",
              "50%        3.530000   2423.000000  \n",
              "75%        4.050000   5437.000000  \n",
              "max        6.170000  18804.000000  "
            ],
            "text/html": [
              "\n",
              "  <div id=\"df-64e17ebd-607f-409c-882b-f772d401fa67\">\n",
              "    <div class=\"colab-df-container\">\n",
              "      <div>\n",
              "<style scoped>\n",
              "    .dataframe tbody tr th:only-of-type {\n",
              "        vertical-align: middle;\n",
              "    }\n",
              "\n",
              "    .dataframe tbody tr th {\n",
              "        vertical-align: top;\n",
              "    }\n",
              "\n",
              "    .dataframe thead th {\n",
              "        text-align: right;\n",
              "    }\n",
              "</style>\n",
              "<table border=\"1\" class=\"dataframe\">\n",
              "  <thead>\n",
              "    <tr style=\"text-align: right;\">\n",
              "      <th></th>\n",
              "      <th>carat</th>\n",
              "      <th>depth</th>\n",
              "      <th>table</th>\n",
              "      <th>x</th>\n",
              "      <th>y</th>\n",
              "      <th>z</th>\n",
              "      <th>price</th>\n",
              "    </tr>\n",
              "  </thead>\n",
              "  <tbody>\n",
              "    <tr>\n",
              "      <th>count</th>\n",
              "      <td>11389.000000</td>\n",
              "      <td>11389.000000</td>\n",
              "      <td>11389.000000</td>\n",
              "      <td>11389.000000</td>\n",
              "      <td>11389.000000</td>\n",
              "      <td>11389.000000</td>\n",
              "      <td>11389.000000</td>\n",
              "    </tr>\n",
              "    <tr>\n",
              "      <th>mean</th>\n",
              "      <td>0.805858</td>\n",
              "      <td>61.740757</td>\n",
              "      <td>57.460782</td>\n",
              "      <td>5.748409</td>\n",
              "      <td>5.750855</td>\n",
              "      <td>3.547212</td>\n",
              "      <td>3975.278833</td>\n",
              "    </tr>\n",
              "    <tr>\n",
              "      <th>std</th>\n",
              "      <td>0.478654</td>\n",
              "      <td>1.392060</td>\n",
              "      <td>2.243166</td>\n",
              "      <td>1.130517</td>\n",
              "      <td>1.121904</td>\n",
              "      <td>0.701142</td>\n",
              "      <td>4018.729847</td>\n",
              "    </tr>\n",
              "    <tr>\n",
              "      <th>min</th>\n",
              "      <td>0.200000</td>\n",
              "      <td>52.200000</td>\n",
              "      <td>49.000000</td>\n",
              "      <td>0.000000</td>\n",
              "      <td>0.000000</td>\n",
              "      <td>0.000000</td>\n",
              "      <td>335.000000</td>\n",
              "    </tr>\n",
              "    <tr>\n",
              "      <th>25%</th>\n",
              "      <td>0.400000</td>\n",
              "      <td>61.100000</td>\n",
              "      <td>56.000000</td>\n",
              "      <td>4.710000</td>\n",
              "      <td>4.720000</td>\n",
              "      <td>2.910000</td>\n",
              "      <td>955.000000</td>\n",
              "    </tr>\n",
              "    <tr>\n",
              "      <th>50%</th>\n",
              "      <td>0.710000</td>\n",
              "      <td>61.800000</td>\n",
              "      <td>57.000000</td>\n",
              "      <td>5.710000</td>\n",
              "      <td>5.730000</td>\n",
              "      <td>3.530000</td>\n",
              "      <td>2423.000000</td>\n",
              "    </tr>\n",
              "    <tr>\n",
              "      <th>75%</th>\n",
              "      <td>1.060000</td>\n",
              "      <td>62.500000</td>\n",
              "      <td>59.000000</td>\n",
              "      <td>6.570000</td>\n",
              "      <td>6.570000</td>\n",
              "      <td>4.050000</td>\n",
              "      <td>5437.000000</td>\n",
              "    </tr>\n",
              "    <tr>\n",
              "      <th>max</th>\n",
              "      <td>4.010000</td>\n",
              "      <td>72.200000</td>\n",
              "      <td>79.000000</td>\n",
              "      <td>10.140000</td>\n",
              "      <td>10.100000</td>\n",
              "      <td>6.170000</td>\n",
              "      <td>18804.000000</td>\n",
              "    </tr>\n",
              "  </tbody>\n",
              "</table>\n",
              "</div>\n",
              "      <button class=\"colab-df-convert\" onclick=\"convertToInteractive('df-64e17ebd-607f-409c-882b-f772d401fa67')\"\n",
              "              title=\"Convert this dataframe to an interactive table.\"\n",
              "              style=\"display:none;\">\n",
              "        \n",
              "  <svg xmlns=\"http://www.w3.org/2000/svg\" height=\"24px\"viewBox=\"0 0 24 24\"\n",
              "       width=\"24px\">\n",
              "    <path d=\"M0 0h24v24H0V0z\" fill=\"none\"/>\n",
              "    <path d=\"M18.56 5.44l.94 2.06.94-2.06 2.06-.94-2.06-.94-.94-2.06-.94 2.06-2.06.94zm-11 1L8.5 8.5l.94-2.06 2.06-.94-2.06-.94L8.5 2.5l-.94 2.06-2.06.94zm10 10l.94 2.06.94-2.06 2.06-.94-2.06-.94-.94-2.06-.94 2.06-2.06.94z\"/><path d=\"M17.41 7.96l-1.37-1.37c-.4-.4-.92-.59-1.43-.59-.52 0-1.04.2-1.43.59L10.3 9.45l-7.72 7.72c-.78.78-.78 2.05 0 2.83L4 21.41c.39.39.9.59 1.41.59.51 0 1.02-.2 1.41-.59l7.78-7.78 2.81-2.81c.8-.78.8-2.07 0-2.86zM5.41 20L4 18.59l7.72-7.72 1.47 1.35L5.41 20z\"/>\n",
              "  </svg>\n",
              "      </button>\n",
              "      \n",
              "  <style>\n",
              "    .colab-df-container {\n",
              "      display:flex;\n",
              "      flex-wrap:wrap;\n",
              "      gap: 12px;\n",
              "    }\n",
              "\n",
              "    .colab-df-convert {\n",
              "      background-color: #E8F0FE;\n",
              "      border: none;\n",
              "      border-radius: 50%;\n",
              "      cursor: pointer;\n",
              "      display: none;\n",
              "      fill: #1967D2;\n",
              "      height: 32px;\n",
              "      padding: 0 0 0 0;\n",
              "      width: 32px;\n",
              "    }\n",
              "\n",
              "    .colab-df-convert:hover {\n",
              "      background-color: #E2EBFA;\n",
              "      box-shadow: 0px 1px 2px rgba(60, 64, 67, 0.3), 0px 1px 3px 1px rgba(60, 64, 67, 0.15);\n",
              "      fill: #174EA6;\n",
              "    }\n",
              "\n",
              "    [theme=dark] .colab-df-convert {\n",
              "      background-color: #3B4455;\n",
              "      fill: #D2E3FC;\n",
              "    }\n",
              "\n",
              "    [theme=dark] .colab-df-convert:hover {\n",
              "      background-color: #434B5C;\n",
              "      box-shadow: 0px 1px 3px 1px rgba(0, 0, 0, 0.15);\n",
              "      filter: drop-shadow(0px 1px 2px rgba(0, 0, 0, 0.3));\n",
              "      fill: #FFFFFF;\n",
              "    }\n",
              "  </style>\n",
              "\n",
              "      <script>\n",
              "        const buttonEl =\n",
              "          document.querySelector('#df-64e17ebd-607f-409c-882b-f772d401fa67 button.colab-df-convert');\n",
              "        buttonEl.style.display =\n",
              "          google.colab.kernel.accessAllowed ? 'block' : 'none';\n",
              "\n",
              "        async function convertToInteractive(key) {\n",
              "          const element = document.querySelector('#df-64e17ebd-607f-409c-882b-f772d401fa67');\n",
              "          const dataTable =\n",
              "            await google.colab.kernel.invokeFunction('convertToInteractive',\n",
              "                                                     [key], {});\n",
              "          if (!dataTable) return;\n",
              "\n",
              "          const docLinkHtml = 'Like what you see? Visit the ' +\n",
              "            '<a target=\"_blank\" href=https://colab.research.google.com/notebooks/data_table.ipynb>data table notebook</a>'\n",
              "            + ' to learn more about interactive tables.';\n",
              "          element.innerHTML = '';\n",
              "          dataTable['output_type'] = 'display_data';\n",
              "          await google.colab.output.renderOutput(dataTable, element);\n",
              "          const docLink = document.createElement('div');\n",
              "          docLink.innerHTML = docLinkHtml;\n",
              "          element.appendChild(docLink);\n",
              "        }\n",
              "      </script>\n",
              "    </div>\n",
              "  </div>\n",
              "  "
            ]
          },
          "metadata": {},
          "execution_count": 42
        }
      ]
    },
    {
      "cell_type": "markdown",
      "source": [
        "Here we can see the x y and z min value is 0, but it is not possible, so i have to removes those rows which contains those value."
      ],
      "metadata": {
        "id": "inegUcf1QAYW"
      }
    },
    {
      "cell_type": "code",
      "source": [
        "df1=df1.drop(df1[df1['x']==0].index)\n",
        "df1=df1.drop(df1[df1['y']==0].index)\n",
        "df1=df1.drop(df1[df1['z']==0].index)"
      ],
      "metadata": {
        "id": "2XeQg-6iP-qi"
      },
      "execution_count": null,
      "outputs": []
    },
    {
      "cell_type": "markdown",
      "source": [
        "now see the current position"
      ],
      "metadata": {
        "id": "kYhSxJNPQ5Uc"
      }
    },
    {
      "cell_type": "code",
      "source": [
        "df1.describe()\n"
      ],
      "metadata": {
        "colab": {
          "base_uri": "https://localhost:8080/",
          "height": 300
        },
        "id": "m4vrkF06Q6j5",
        "outputId": "692c3b6b-d316-4302-a501-fdf2b5552bd0"
      },
      "execution_count": null,
      "outputs": [
        {
          "output_type": "execute_result",
          "data": {
            "text/plain": [
              "              carat         depth         table             x             y  \\\n",
              "count  11384.000000  11384.000000  11384.000000  11384.000000  11384.000000   \n",
              "mean       0.805499     61.741039     57.460370      5.748158      5.750625   \n",
              "std        0.478267      1.391560      2.242805      1.128677      1.120083   \n",
              "min        0.200000     52.200000     49.000000      3.730000      3.710000   \n",
              "25%        0.400000     61.100000     56.000000      4.710000      4.720000   \n",
              "50%        0.710000     61.800000     57.000000      5.710000      5.730000   \n",
              "75%        1.060000     62.500000     59.000000      6.570000      6.570000   \n",
              "max        4.010000     72.200000     79.000000     10.140000     10.100000   \n",
              "\n",
              "                  z         price  \n",
              "count  11384.000000  11384.000000  \n",
              "mean       3.548770   3972.334032  \n",
              "std        0.697343   4014.601761  \n",
              "min        1.070000    335.000000  \n",
              "25%        2.910000    954.000000  \n",
              "50%        3.530000   2423.000000  \n",
              "75%        4.050000   5436.000000  \n",
              "max        6.170000  18804.000000  "
            ],
            "text/html": [
              "\n",
              "  <div id=\"df-0360034c-edc9-419d-acad-3bfd3cdf828c\">\n",
              "    <div class=\"colab-df-container\">\n",
              "      <div>\n",
              "<style scoped>\n",
              "    .dataframe tbody tr th:only-of-type {\n",
              "        vertical-align: middle;\n",
              "    }\n",
              "\n",
              "    .dataframe tbody tr th {\n",
              "        vertical-align: top;\n",
              "    }\n",
              "\n",
              "    .dataframe thead th {\n",
              "        text-align: right;\n",
              "    }\n",
              "</style>\n",
              "<table border=\"1\" class=\"dataframe\">\n",
              "  <thead>\n",
              "    <tr style=\"text-align: right;\">\n",
              "      <th></th>\n",
              "      <th>carat</th>\n",
              "      <th>depth</th>\n",
              "      <th>table</th>\n",
              "      <th>x</th>\n",
              "      <th>y</th>\n",
              "      <th>z</th>\n",
              "      <th>price</th>\n",
              "    </tr>\n",
              "  </thead>\n",
              "  <tbody>\n",
              "    <tr>\n",
              "      <th>count</th>\n",
              "      <td>11384.000000</td>\n",
              "      <td>11384.000000</td>\n",
              "      <td>11384.000000</td>\n",
              "      <td>11384.000000</td>\n",
              "      <td>11384.000000</td>\n",
              "      <td>11384.000000</td>\n",
              "      <td>11384.000000</td>\n",
              "    </tr>\n",
              "    <tr>\n",
              "      <th>mean</th>\n",
              "      <td>0.805499</td>\n",
              "      <td>61.741039</td>\n",
              "      <td>57.460370</td>\n",
              "      <td>5.748158</td>\n",
              "      <td>5.750625</td>\n",
              "      <td>3.548770</td>\n",
              "      <td>3972.334032</td>\n",
              "    </tr>\n",
              "    <tr>\n",
              "      <th>std</th>\n",
              "      <td>0.478267</td>\n",
              "      <td>1.391560</td>\n",
              "      <td>2.242805</td>\n",
              "      <td>1.128677</td>\n",
              "      <td>1.120083</td>\n",
              "      <td>0.697343</td>\n",
              "      <td>4014.601761</td>\n",
              "    </tr>\n",
              "    <tr>\n",
              "      <th>min</th>\n",
              "      <td>0.200000</td>\n",
              "      <td>52.200000</td>\n",
              "      <td>49.000000</td>\n",
              "      <td>3.730000</td>\n",
              "      <td>3.710000</td>\n",
              "      <td>1.070000</td>\n",
              "      <td>335.000000</td>\n",
              "    </tr>\n",
              "    <tr>\n",
              "      <th>25%</th>\n",
              "      <td>0.400000</td>\n",
              "      <td>61.100000</td>\n",
              "      <td>56.000000</td>\n",
              "      <td>4.710000</td>\n",
              "      <td>4.720000</td>\n",
              "      <td>2.910000</td>\n",
              "      <td>954.000000</td>\n",
              "    </tr>\n",
              "    <tr>\n",
              "      <th>50%</th>\n",
              "      <td>0.710000</td>\n",
              "      <td>61.800000</td>\n",
              "      <td>57.000000</td>\n",
              "      <td>5.710000</td>\n",
              "      <td>5.730000</td>\n",
              "      <td>3.530000</td>\n",
              "      <td>2423.000000</td>\n",
              "    </tr>\n",
              "    <tr>\n",
              "      <th>75%</th>\n",
              "      <td>1.060000</td>\n",
              "      <td>62.500000</td>\n",
              "      <td>59.000000</td>\n",
              "      <td>6.570000</td>\n",
              "      <td>6.570000</td>\n",
              "      <td>4.050000</td>\n",
              "      <td>5436.000000</td>\n",
              "    </tr>\n",
              "    <tr>\n",
              "      <th>max</th>\n",
              "      <td>4.010000</td>\n",
              "      <td>72.200000</td>\n",
              "      <td>79.000000</td>\n",
              "      <td>10.140000</td>\n",
              "      <td>10.100000</td>\n",
              "      <td>6.170000</td>\n",
              "      <td>18804.000000</td>\n",
              "    </tr>\n",
              "  </tbody>\n",
              "</table>\n",
              "</div>\n",
              "      <button class=\"colab-df-convert\" onclick=\"convertToInteractive('df-0360034c-edc9-419d-acad-3bfd3cdf828c')\"\n",
              "              title=\"Convert this dataframe to an interactive table.\"\n",
              "              style=\"display:none;\">\n",
              "        \n",
              "  <svg xmlns=\"http://www.w3.org/2000/svg\" height=\"24px\"viewBox=\"0 0 24 24\"\n",
              "       width=\"24px\">\n",
              "    <path d=\"M0 0h24v24H0V0z\" fill=\"none\"/>\n",
              "    <path d=\"M18.56 5.44l.94 2.06.94-2.06 2.06-.94-2.06-.94-.94-2.06-.94 2.06-2.06.94zm-11 1L8.5 8.5l.94-2.06 2.06-.94-2.06-.94L8.5 2.5l-.94 2.06-2.06.94zm10 10l.94 2.06.94-2.06 2.06-.94-2.06-.94-.94-2.06-.94 2.06-2.06.94z\"/><path d=\"M17.41 7.96l-1.37-1.37c-.4-.4-.92-.59-1.43-.59-.52 0-1.04.2-1.43.59L10.3 9.45l-7.72 7.72c-.78.78-.78 2.05 0 2.83L4 21.41c.39.39.9.59 1.41.59.51 0 1.02-.2 1.41-.59l7.78-7.78 2.81-2.81c.8-.78.8-2.07 0-2.86zM5.41 20L4 18.59l7.72-7.72 1.47 1.35L5.41 20z\"/>\n",
              "  </svg>\n",
              "      </button>\n",
              "      \n",
              "  <style>\n",
              "    .colab-df-container {\n",
              "      display:flex;\n",
              "      flex-wrap:wrap;\n",
              "      gap: 12px;\n",
              "    }\n",
              "\n",
              "    .colab-df-convert {\n",
              "      background-color: #E8F0FE;\n",
              "      border: none;\n",
              "      border-radius: 50%;\n",
              "      cursor: pointer;\n",
              "      display: none;\n",
              "      fill: #1967D2;\n",
              "      height: 32px;\n",
              "      padding: 0 0 0 0;\n",
              "      width: 32px;\n",
              "    }\n",
              "\n",
              "    .colab-df-convert:hover {\n",
              "      background-color: #E2EBFA;\n",
              "      box-shadow: 0px 1px 2px rgba(60, 64, 67, 0.3), 0px 1px 3px 1px rgba(60, 64, 67, 0.15);\n",
              "      fill: #174EA6;\n",
              "    }\n",
              "\n",
              "    [theme=dark] .colab-df-convert {\n",
              "      background-color: #3B4455;\n",
              "      fill: #D2E3FC;\n",
              "    }\n",
              "\n",
              "    [theme=dark] .colab-df-convert:hover {\n",
              "      background-color: #434B5C;\n",
              "      box-shadow: 0px 1px 3px 1px rgba(0, 0, 0, 0.15);\n",
              "      filter: drop-shadow(0px 1px 2px rgba(0, 0, 0, 0.3));\n",
              "      fill: #FFFFFF;\n",
              "    }\n",
              "  </style>\n",
              "\n",
              "      <script>\n",
              "        const buttonEl =\n",
              "          document.querySelector('#df-0360034c-edc9-419d-acad-3bfd3cdf828c button.colab-df-convert');\n",
              "        buttonEl.style.display =\n",
              "          google.colab.kernel.accessAllowed ? 'block' : 'none';\n",
              "\n",
              "        async function convertToInteractive(key) {\n",
              "          const element = document.querySelector('#df-0360034c-edc9-419d-acad-3bfd3cdf828c');\n",
              "          const dataTable =\n",
              "            await google.colab.kernel.invokeFunction('convertToInteractive',\n",
              "                                                     [key], {});\n",
              "          if (!dataTable) return;\n",
              "\n",
              "          const docLinkHtml = 'Like what you see? Visit the ' +\n",
              "            '<a target=\"_blank\" href=https://colab.research.google.com/notebooks/data_table.ipynb>data table notebook</a>'\n",
              "            + ' to learn more about interactive tables.';\n",
              "          element.innerHTML = '';\n",
              "          dataTable['output_type'] = 'display_data';\n",
              "          await google.colab.output.renderOutput(dataTable, element);\n",
              "          const docLink = document.createElement('div');\n",
              "          docLink.innerHTML = docLinkHtml;\n",
              "          element.appendChild(docLink);\n",
              "        }\n",
              "      </script>\n",
              "    </div>\n",
              "  </div>\n",
              "  "
            ]
          },
          "metadata": {},
          "execution_count": 44
        }
      ]
    },
    {
      "cell_type": "code",
      "source": [
        "dum=pd.get_dummies(df1)"
      ],
      "metadata": {
        "id": "PG0r4H2F7Bcu"
      },
      "execution_count": null,
      "outputs": []
    },
    {
      "cell_type": "code",
      "source": [
        "sns.set(rc = {'figure.figsize':(16,8)})\n",
        "sns.heatmap(df1.corr(), annot = True, fmt='.2g',cmap= 'coolwarm')\n"
      ],
      "metadata": {
        "colab": {
          "base_uri": "https://localhost:8080/",
          "height": 506
        },
        "outputId": "bb28aa5d-1b92-4516-9a5a-37be1d306754",
        "id": "kQANaXjQM3NN"
      },
      "execution_count": null,
      "outputs": [
        {
          "output_type": "execute_result",
          "data": {
            "text/plain": [
              "<matplotlib.axes._subplots.AxesSubplot at 0x7fd1933cb250>"
            ]
          },
          "metadata": {},
          "execution_count": 46
        },
        {
          "output_type": "display_data",
          "data": {
            "text/plain": [
              "<Figure size 1152x576 with 2 Axes>"
            ],
            "image/png": "[encoded data removed]"
          },
          "metadata": {}
        }
      ]
    },
    {
      "cell_type": "code",
      "source": [
        "dum.shape"
      ],
      "metadata": {
        "colab": {
          "base_uri": "https://localhost:8080/"
        },
        "id": "y1bpLi4EM3ec",
        "outputId": "9001a833-a2ae-4a81-d4fe-3a73cb21f762"
      },
      "execution_count": null,
      "outputs": [
        {
          "output_type": "execute_result",
          "data": {
            "text/plain": [
              "(11384, 27)"
            ]
          },
          "metadata": {},
          "execution_count": 47
        }
      ]
    },
    {
      "cell_type": "code",
      "source": [
        "df1=dum"
      ],
      "metadata": {
        "id": "-VIImYvdOqIv"
      },
      "execution_count": null,
      "outputs": []
    },
    {
      "cell_type": "code",
      "source": [
        "from sklearn.model_selection import train_test_split\n",
        "from sklearn.linear_model import LinearRegression\n",
        "import matplotlib.pyplot as plt \n",
        "import seaborn as sns "
      ],
      "metadata": {
        "id": "2Mh86uiwUWkJ"
      },
      "execution_count": null,
      "outputs": []
    },
    {
      "cell_type": "code",
      "source": [
        "X=df1.drop([\"price\"],axis=1)\n",
        "y= df1[\"price\"]"
      ],
      "metadata": {
        "id": "E19UanitVjiQ"
      },
      "execution_count": null,
      "outputs": []
    },
    {
      "cell_type": "markdown",
      "source": [
        "We want to make train, test and validation dataset by 70,15,15 persent of the whole data\n"
      ],
      "metadata": {
        "id": "7WOTZtU_VqEO"
      }
    },
    {
      "cell_type": "code",
      "source": [
        "train_size=0.7\n",
        "# In the first step we will split the data in training and remaining dataset\n",
        "X_train, X_rem, y_train, y_rem = train_test_split(X,y, train_size=0.7,random_state=7)\n",
        "\n",
        "# Now since we want the valid and test size to be equal (15% each of overall data). \n",
        "# we have to define valid_size=0.5 (that is 50% of remaining data)\n",
        "test_size = 0.5\n",
        "X_valid, X_test, y_valid, y_test = train_test_split(X_rem,y_rem, test_size=0.5,random_state=7)\n",
        "\n"
      ],
      "metadata": {
        "id": "kbH00rPcWhEH"
      },
      "execution_count": null,
      "outputs": []
    },
    {
      "cell_type": "code",
      "source": [
        "pipeline_lr=Pipeline([(\"scalar1\",StandardScaler()),(\"lr_classifier\",LinearRegression())])\n",
        "pipeline_rf=Pipeline([(\"scalar3\",StandardScaler()),(\"rf_classifier\",RandomForestRegressor())])\n",
        "pipelines = [pipeline_lr,pipeline_rf]\n",
        "\n"
      ],
      "metadata": {
        "id": "cj99ePVPYjmD"
      },
      "execution_count": null,
      "outputs": []
    },
    {
      "cell_type": "code",
      "source": [
        "pipe_dict = {0: \"LinearRegression\", 1: \"RandomForest\"}\n",
        "\n",
        "# Fit the pipelines\n",
        "for pipe in pipelines:\n",
        "    pipe.fit(X_train, y_train)"
      ],
      "metadata": {
        "id": "JLI3woT1aBbQ"
      },
      "execution_count": null,
      "outputs": []
    },
    {
      "cell_type": "code",
      "source": [
        "cv_results_rms = []\n",
        "for i, model in enumerate(pipelines):\n",
        "    cv_score = cross_val_score(model, X_train,y_train,scoring=\"neg_root_mean_squared_error\", cv=10)\n",
        "    cv_results_rms.append(cv_score)\n",
        "    print(\"%s: %f \" % (pipe_dict[i], cv_score.mean()))"
      ],
      "metadata": {
        "colab": {
          "base_uri": "https://localhost:8080/"
        },
        "id": "UxTXHny1aMXk",
        "outputId": "6224d40d-cfb2-4e02-86f6-d4d58db609a3"
      },
      "execution_count": null,
      "outputs": [
        {
          "output_type": "stream",
          "name": "stdout",
          "text": [
            "LinearRegression: -1152.032177 \n",
            "RandomForest: -688.247981 \n"
          ]
        }
      ]
    },
    {
      "cell_type": "markdown",
      "source": [
        "Here we can see that random forrest give the best result"
      ],
      "metadata": {
        "id": "s_7eJP_9eHMw"
      }
    },
    {
      "cell_type": "markdown",
      "source": [
        "**For random forrest lets see the result**"
      ],
      "metadata": {
        "id": "4ce44rS6fh_s"
      }
    },
    {
      "cell_type": "code",
      "source": [
        "# Model prediction on test data\n",
        "pred = pipeline_rf.predict(X_test)"
      ],
      "metadata": {
        "id": "5yDij2VqeGR7"
      },
      "execution_count": null,
      "outputs": []
    },
    {
      "cell_type": "code",
      "source": [
        "# Model Evaluation\n",
        "print(\"R^2:\",metrics.r2_score(y_test, pred))\n",
        "print(\"Adjusted R^2:\",1 - (1-metrics.r2_score(y_test, pred))*(len(y_test)-1)/(len(y_test)-X_test.shape[1]-1))\n",
        "print(\"MAE:\",metrics.mean_absolute_error(y_test, pred))\n",
        "print(\"MSE:\",metrics.mean_squared_error(y_test, pred))\n",
        "print(\"RMSE:\",np.sqrt(metrics.mean_squared_error(y_test, pred)))"
      ],
      "metadata": {
        "colab": {
          "base_uri": "https://localhost:8080/"
        },
        "id": "5IrR6we7dbnb",
        "outputId": "178ab9d1-3d92-4036-c7b8-e9f811be15bd"
      },
      "execution_count": null,
      "outputs": [
        {
          "output_type": "stream",
          "name": "stdout",
          "text": [
            "R^2: 0.9726271505318388\n",
            "Adjusted R^2: 0.9722037751087739\n",
            "MAE: 334.51833926389264\n",
            "MSE: 457461.1682450434\n",
            "RMSE: 676.3587570550435\n"
          ]
        }
      ]
    },
    {
      "cell_type": "code",
      "source": [
        "pred1 = pipeline_lr.predict(X_test)"
      ],
      "metadata": {
        "id": "exKL-am4e80y"
      },
      "execution_count": null,
      "outputs": []
    },
    {
      "cell_type": "markdown",
      "source": [
        "For Linear **Regression** "
      ],
      "metadata": {
        "id": "XNQvgP45fXsF"
      }
    },
    {
      "cell_type": "code",
      "source": [
        "print(\"R^2:\",metrics.r2_score(y_test, pred1))\n",
        "print(\"Adjusted R^2:\",1 - (1-metrics.r2_score(y_test, pred1))*(len(y_test)-1)/(len(y_test)-X_test.shape[1]-1))\n",
        "print(\"MAE:\",metrics.mean_absolute_error(y_test, pred1))\n",
        "print(\"MSE:\",metrics.mean_squared_error(y_test, pred1))\n",
        "print(\"RMSE:\",np.sqrt(metrics.mean_squared_error(y_test, pred1)))"
      ],
      "metadata": {
        "colab": {
          "base_uri": "https://localhost:8080/"
        },
        "id": "ueZ3d2mufNM_",
        "outputId": "fc524a58-1dba-4baa-fb0d-f83d8e598ea4"
      },
      "execution_count": null,
      "outputs": [
        {
          "output_type": "stream",
          "name": "stdout",
          "text": [
            "R^2: 0.9205108363490239\n",
            "Adjusted R^2: 0.9192813787315787\n",
            "MAE: 758.8551257378926\n",
            "MSE: 1328440.6400178724\n",
            "RMSE: 1152.5799928932795\n"
          ]
        }
      ]
    },
    {
      "cell_type": "code",
      "source": [],
      "metadata": {
        "id": "uapPA9NzfVdM"
      },
      "execution_count": null,
      "outputs": []
    }
  ]
}